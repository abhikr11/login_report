{
  "nbformat": 4,
  "nbformat_minor": 0,
  "metadata": {
    "colab": {
      "provenance": []
    },
    "kernelspec": {
      "name": "python3",
      "display_name": "Python 3"
    },
    "language_info": {
      "name": "python"
    }
  },
  "cells": [
    {
      "cell_type": "code",
      "execution_count": 1,
      "metadata": {
        "id": "xqWGLBb2ZzEd"
      },
      "outputs": [],
      "source": [
        "class Event:\n",
        "  '''Create event class'''\n",
        "  def __init__(self, event_date, event_type, machine_name, user):\n",
        "    self.date = event_date\n",
        "    self.type = event_type\n",
        "    self.machine = machine_name\n",
        "    self.user = user"
      ]
    },
    {
      "cell_type": "code",
      "source": [
        "#sort the event by date in ascending order \n",
        "def get_event_date(event):\n",
        "  return event.date\n",
        "\n",
        "def current_users(events):\n",
        "  events.sort(key=get_event_date)                      #sort the event by date\n",
        "  machines = {}\n",
        "  for event in events:\n",
        "    if event.machine not in machines:  \n",
        "      machines[event.machine] = set()                  #adding machine name in dictionary\n",
        "    if event.type == \"login\":          \n",
        "      machines[event.machine].add(event.user)          #add user who logged in to particular machine\n",
        "    elif event.type == \"logout\" and event.user in machines[event.machine]:\n",
        "      machines[event.machine].remove(event.user)       #remove user who logged out from machine if the user have logged in before\n",
        "    else:\n",
        "      pass                                             #pass if the user have not logged in to machine\n",
        "  return machines\n",
        "\n",
        "#generate report\n",
        "def generate_report(machines):\n",
        "  for machine, users in machines.items():\n",
        "    if len(users) > 0:                         #if there is one or more user logged in to machine then add it in report\n",
        "      user_list = \", \".join(users)\n",
        "      print(\"{}: {}\".format(machine, user_list))"
      ],
      "metadata": {
        "id": "cr5MemNiaJkx"
      },
      "execution_count": 2,
      "outputs": []
    },
    {
      "cell_type": "code",
      "source": [
        "events = [\n",
        "    Event('2020-01-21 12:45:56', 'login', 'myworkstation.local', 'jordan'),\n",
        "    Event('2020-01-22 15:53:42', 'logout', 'webserver.local', 'jordan'),\n",
        "    Event('2020-01-21 18:53:21', 'login', 'webserver.local', 'lane'),\n",
        "    Event('2020-01-22 10:25:34', 'logout', 'myworkstation.local', 'jordan'),\n",
        "    Event('2020-01-21 08:20:01', 'login', 'webserver.local', 'jordan'),\n",
        "    Event('2020-01-23 11:24:35', 'logout', 'mailserver.local', 'chris')\n",
        "]"
      ],
      "metadata": {
        "id": "t36UUvaDbIJl"
      },
      "execution_count": 3,
      "outputs": []
    },
    {
      "cell_type": "code",
      "source": [
        "users = current_users(events)\n",
        "print(users)"
      ],
      "metadata": {
        "colab": {
          "base_uri": "https://localhost:8080/"
        },
        "id": "if3vbkz9bNfr",
        "outputId": "24b5c42b-f711-4c8a-ed74-099269182c55"
      },
      "execution_count": 4,
      "outputs": [
        {
          "output_type": "stream",
          "name": "stdout",
          "text": [
            "{'webserver.local': {'lane'}, 'myworkstation.local': set(), 'mailserver.local': set()}\n"
          ]
        }
      ]
    },
    {
      "cell_type": "code",
      "source": [
        "generate_report(users)"
      ],
      "metadata": {
        "colab": {
          "base_uri": "https://localhost:8080/"
        },
        "id": "7F0Wv5Hdb7rO",
        "outputId": "c41b23ce-5cc0-432a-ae00-a1db1e7a70ec"
      },
      "execution_count": 5,
      "outputs": [
        {
          "output_type": "stream",
          "name": "stdout",
          "text": [
            "webserver.local: lane\n"
          ]
        }
      ]
    }
  ]
}